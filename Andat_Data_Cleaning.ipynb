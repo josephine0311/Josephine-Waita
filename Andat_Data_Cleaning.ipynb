{
  "nbformat": 4,
  "nbformat_minor": 0,
  "metadata": {
    "colab": {
      "provenance": [],
      "authorship_tag": "ABX9TyOJwz/iGUwNbDZ6K0biN9YC",
      "include_colab_link": true
    },
    "kernelspec": {
      "name": "python3",
      "display_name": "Python 3"
    },
    "language_info": {
      "name": "python"
    }
  },
  "cells": [
    {
      "cell_type": "markdown",
      "metadata": {
        "id": "view-in-github",
        "colab_type": "text"
      },
      "source": [
        "<a href=\"https://colab.research.google.com/github/josephine0311/Josephine-Waita/blob/main/Andat_Data_Cleaning.ipynb\" target=\"_parent\"><img src=\"https://colab.research.google.com/assets/colab-badge.svg\" alt=\"Open In Colab\"/></a>"
      ]
    },
    {
      "cell_type": "markdown",
      "source": [
        "# Part A : Initial Inspection"
      ],
      "metadata": {
        "id": "2ElYmKYNyvqS"
      }
    },
    {
      "cell_type": "code",
      "source": [
        "import pandas as pd"
      ],
      "metadata": {
        "id": "6VJXumMwitMv"
      },
      "execution_count": 35,
      "outputs": []
    },
    {
      "cell_type": "code",
      "execution_count": 36,
      "metadata": {
        "colab": {
          "base_uri": "https://localhost:8080/",
          "height": 0
        },
        "id": "qM1Ne2-GfR5a",
        "outputId": "6f3e3c2d-78bd-4028-d362-598b1820cffc"
      },
      "outputs": [
        {
          "output_type": "stream",
          "name": "stdout",
          "text": [
            "   claim_id   age  gender policy_type diagnosis_code  claim_amount  \\\n",
            "0         1  69.0    Male    Standard           D001       9536.85   \n",
            "1         2  32.0    Male       Basic           D004      13215.40   \n",
            "2         3  89.0  Female     Premium           D004       2053.08   \n",
            "3         4  78.0    Male       Basic           D001       6538.17   \n",
            "4         5  38.0  Female       Basic           D003       4424.58   \n",
            "5         6  41.0    Male    Standard           D005       6214.82   \n",
            "6         7  20.0    Male    Standard            NaN       4845.43   \n",
            "7         8  39.0    Male    Standard           D003       5391.60   \n",
            "8         9  70.0  Female    Standard           D005      10029.57   \n",
            "9        10  19.0    Male       Basic           D004       2950.42   \n",
            "\n",
            "  payment_status  \n",
            "0        Pending  \n",
            "1        Pending  \n",
            "2        Pending  \n",
            "3           Paid  \n",
            "4           Paid  \n",
            "5           Paid  \n",
            "6           Paid  \n",
            "7           Paid  \n",
            "8           Paid  \n",
            "9           Paid  \n"
          ]
        }
      ],
      "source": [
        "# Baca file CSV\n",
        "df = pd.read_csv('/content/health_insurance_claims.csv')\n",
        "\n",
        "# Tampilkan 10 baris pertama\n",
        "print(df.head(10))"
      ]
    },
    {
      "cell_type": "code",
      "source": [
        "# Tampilkan jumlah baris dan kolom\n",
        "print(f'Jumlah baris: {df.shape[0]}')\n",
        "print(f'Jumlah kolom: {df.shape[1]}')"
      ],
      "metadata": {
        "id": "JqTK2CE2VP6k",
        "colab": {
          "base_uri": "https://localhost:8080/",
          "height": 0
        },
        "outputId": "8fa3247a-e99e-48c9-ad94-e6bd84cab5bb"
      },
      "execution_count": 37,
      "outputs": [
        {
          "output_type": "stream",
          "name": "stdout",
          "text": [
            "Jumlah baris: 10000\n",
            "Jumlah kolom: 7\n"
          ]
        }
      ]
    },
    {
      "cell_type": "code",
      "source": [
        "# Hasil ringkasan statistik untuk semua variabel numerik\n",
        "print(df.describe())"
      ],
      "metadata": {
        "id": "Y8lMOcdkV8pg",
        "colab": {
          "base_uri": "https://localhost:8080/",
          "height": 0
        },
        "outputId": "b62aeba6-0daa-4d14-c2c9-5ff2d41cacf4"
      },
      "execution_count": 38,
      "outputs": [
        {
          "output_type": "stream",
          "name": "stdout",
          "text": [
            "          claim_id          age  claim_amount\n",
            "count  10000.00000  9800.000000   9800.000000\n",
            "mean    5000.50000    53.582959   4008.560987\n",
            "std     2886.89568    20.749805   2843.926721\n",
            "min        1.00000    18.000000     50.220000\n",
            "25%     2500.75000    36.000000   1890.927500\n",
            "50%     5000.50000    53.000000   3352.395000\n",
            "75%     7500.25000    72.000000   5407.177500\n",
            "max    10000.00000    89.000000  21581.180000\n"
          ]
        }
      ]
    },
    {
      "cell_type": "code",
      "source": [
        "# Identifikasi variabel kategorikal dan numerik\n",
        "categorical_vars = df.select_dtypes(include=['object']).columns\n",
        "numerical_vars = df.select_dtypes(include=['int64', 'float64']).columns"
      ],
      "metadata": {
        "id": "xz2hnp7WWH3E"
      },
      "execution_count": 39,
      "outputs": []
    },
    {
      "cell_type": "code",
      "source": [
        "print(f'Variabel kategorikal: {categorical_vars}')\n",
        "print(f'Variabel numerik: {numerical_vars}')"
      ],
      "metadata": {
        "id": "e1E7voW4Wcll",
        "colab": {
          "base_uri": "https://localhost:8080/",
          "height": 0
        },
        "outputId": "97cc4ee9-f8be-421a-dc52-bc2d07646661"
      },
      "execution_count": 40,
      "outputs": [
        {
          "output_type": "stream",
          "name": "stdout",
          "text": [
            "Variabel kategorikal: Index(['gender', 'policy_type', 'diagnosis_code', 'payment_status'], dtype='object')\n",
            "Variabel numerik: Index(['claim_id', 'age', 'claim_amount'], dtype='object')\n"
          ]
        }
      ]
    },
    {
      "cell_type": "markdown",
      "source": [
        "# Part B : Missing Value"
      ],
      "metadata": {
        "id": "HeODCZ0-zFvb"
      }
    },
    {
      "cell_type": "code",
      "source": [
        "#Tampilkan jumlah nilai yang hilang per variabel\n",
        "missing_values = df.isnull().sum()\n",
        "print(\"Jumlah nilai yang hilang per variabel :\")\n",
        "print(missing_values)"
      ],
      "metadata": {
        "id": "JbEBBiCzXGpF",
        "colab": {
          "base_uri": "https://localhost:8080/",
          "height": 0
        },
        "outputId": "265b392d-902f-4303-a5a9-bbf6b685f035"
      },
      "execution_count": 41,
      "outputs": [
        {
          "output_type": "stream",
          "name": "stdout",
          "text": [
            "Jumlah nilai yang hilang per variabel :\n",
            "claim_id            0\n",
            "age               200\n",
            "gender              0\n",
            "policy_type         0\n",
            "diagnosis_code    200\n",
            "claim_amount      200\n",
            "payment_status      0\n",
            "dtype: int64\n"
          ]
        }
      ]
    },
    {
      "cell_type": "code",
      "source": [
        "# Simpan jumlah nilai yang hilang sebelum pengisian\n",
        "missing_before = missing_values.copy()"
      ],
      "metadata": {
        "id": "R64_s6cwYBBR"
      },
      "execution_count": 42,
      "outputs": []
    },
    {
      "cell_type": "code",
      "source": [
        "import seaborn as sns\n",
        "import matplotlib.pyplot as plt"
      ],
      "metadata": {
        "id": "ts7nkn2fwr4f"
      },
      "execution_count": 43,
      "outputs": []
    },
    {
      "cell_type": "code",
      "source": [
        "# Identifikasi grafik\n",
        "sns.displot(df['age'], kde = True)\n",
        "sns.displot(df['claim_amount'], kde = True)"
      ],
      "metadata": {
        "id": "PLM5YeNQjG7q",
        "colab": {
          "base_uri": "https://localhost:8080/",
          "height": 1013
        },
        "outputId": "17ba6269-3103-4186-ca0c-f7c71d13d5ff"
      },
      "execution_count": 44,
      "outputs": [
        {
          "output_type": "execute_result",
          "data": {
            "text/plain": [
              "<seaborn.axisgrid.FacetGrid at 0x7ecd69a361e0>"
            ]
          },
          "metadata": {},
          "execution_count": 44
        },
        {
          "output_type": "display_data",
          "data": {
            "text/plain": [
              "<Figure size 500x500 with 1 Axes>"
            ],
            "image/png": "[encoded data removed]"
          },
          "metadata": {}
        },
        {
          "output_type": "display_data",
          "data": {
            "text/plain": [
              "<Figure size 500x500 with 1 Axes>"
            ],
            "image/png": "[encoded data removed]"
          },
          "metadata": {}
        }
      ]
    },
    {
      "cell_type": "code",
      "source": [
        "# Isi nilai yang hilang\n",
        "df['age'] = df['age'].fillna(df['age'].mean()) # mean karena pesebaran rata\n",
        "df['claim_amount'] = df['claim_amount'].fillna(df['claim_amount'].median()) # median karena dia mepet ke Y\n",
        "df['diagnosis_code'] = df['diagnosis_code'].fillna(df['diagnosis_code'].mode()[0]) # modus karena data kategorikal"
      ],
      "metadata": {
        "id": "V1tHQriiZSj_"
      },
      "execution_count": 45,
      "outputs": []
    },
    {
      "cell_type": "code",
      "source": [
        "# Tampilkan jumlah nilai yang hilang setelah pengisian\n",
        "missing_after = df.isnull().sum()\n",
        "print(\"Jumlah nilai yang hilang setelah pengisian:\")\n",
        "print(missing_after)"
      ],
      "metadata": {
        "id": "Ig9t2432ZrV7",
        "colab": {
          "base_uri": "https://localhost:8080/",
          "height": 0
        },
        "outputId": "34f3ed15-c295-41b5-d691-40608dd6fdb2"
      },
      "execution_count": 46,
      "outputs": [
        {
          "output_type": "stream",
          "name": "stdout",
          "text": [
            "Jumlah nilai yang hilang setelah pengisian:\n",
            "claim_id          0\n",
            "age               0\n",
            "gender            0\n",
            "policy_type       0\n",
            "diagnosis_code    0\n",
            "claim_amount      0\n",
            "payment_status    0\n",
            "dtype: int64\n"
          ]
        }
      ]
    },
    {
      "cell_type": "code",
      "source": [
        "# Tampilkan perbandingan sebelum dan sesudah\n",
        "comparison = pd.DataFrame({\n",
        "    'Before': missing_before,\n",
        "    'After': missing_after\n",
        "})\n",
        "print(\"\\nPerbandingan sebelum dan sesudah pengisian nilai yang hilang:\")\n",
        "print(comparison)\n"
      ],
      "metadata": {
        "id": "7PPtXVWgZ4Zi",
        "colab": {
          "base_uri": "https://localhost:8080/",
          "height": 0
        },
        "outputId": "7531a234-ae00-491c-c3eb-84a6b3b5fc1f"
      },
      "execution_count": 47,
      "outputs": [
        {
          "output_type": "stream",
          "name": "stdout",
          "text": [
            "\n",
            "Perbandingan sebelum dan sesudah pengisian nilai yang hilang:\n",
            "                Before  After\n",
            "claim_id             0      0\n",
            "age                200      0\n",
            "gender               0      0\n",
            "policy_type          0      0\n",
            "diagnosis_code     200      0\n",
            "claim_amount       200      0\n",
            "payment_status       0      0\n"
          ]
        }
      ]
    },
    {
      "cell_type": "markdown",
      "source": [
        "# Part C: Duplicates & Data Integrity"
      ],
      "metadata": {
        "id": "ybADPh-vzTvR"
      }
    },
    {
      "cell_type": "code",
      "source": [
        "# Cek duplikasi kolom 'claim_id'\n",
        "duplicate_claims = df[df.duplicated(subset='claim_id', keep=False)]\n",
        "print(duplicate_claims)"
      ],
      "metadata": {
        "id": "wQ3TbDNVaPox",
        "colab": {
          "base_uri": "https://localhost:8080/",
          "height": 0
        },
        "outputId": "be035053-5312-4e62-ce4b-c8936562c372"
      },
      "execution_count": 48,
      "outputs": [
        {
          "output_type": "stream",
          "name": "stdout",
          "text": [
            "Empty DataFrame\n",
            "Columns: [claim_id, age, gender, policy_type, diagnosis_code, claim_amount, payment_status]\n",
            "Index: []\n"
          ]
        }
      ]
    },
    {
      "cell_type": "markdown",
      "source": [
        "Tidak ada duplikasi, sebenarnya bisa langsung di skip langkah-langkah menghapus duplikasi. Tapi biar lengkap, dituliskan saja langkah-langkah menghapus duplikasi pada data."
      ],
      "metadata": {
        "id": "cbznaQ3ncnCd"
      }
    },
    {
      "cell_type": "code",
      "source": [
        "# Hapus duplikasi\n",
        "rows_before = df.shape[0]\n",
        "df.drop_duplicates(subset='claim_id', keep='first')\n",
        "rows_after = df.shape[0]"
      ],
      "metadata": {
        "id": "ykZybhRHbqtm"
      },
      "execution_count": 49,
      "outputs": []
    },
    {
      "cell_type": "code",
      "source": [
        "# Tampilkan berapa banyak baris yang dihapus\n",
        "rows_removed = rows_before - rows_after\n",
        "print(f\"Jumlah baris yang dihapus: {rows_removed}\")"
      ],
      "metadata": {
        "id": "Wf__gmNQcOMB",
        "colab": {
          "base_uri": "https://localhost:8080/",
          "height": 0
        },
        "outputId": "b1285422-8796-4ef4-f19b-cf249aa7ae52"
      },
      "execution_count": 50,
      "outputs": [
        {
          "output_type": "stream",
          "name": "stdout",
          "text": [
            "Jumlah baris yang dihapus: 0\n"
          ]
        }
      ]
    },
    {
      "cell_type": "code",
      "source": [
        "# Verifikasi bahwa semua claim_id yang tersisa adalah unik\n",
        "unique_claims = df['claim_id'].is_unique\n",
        "print(f\"Apakah semua claim_id yang tersisa unik? {unique_claims}\")"
      ],
      "metadata": {
        "id": "VqMjUry5cXbV",
        "colab": {
          "base_uri": "https://localhost:8080/",
          "height": 0
        },
        "outputId": "5cdb1ece-0efe-4125-ecc8-1ddee3635020"
      },
      "execution_count": 51,
      "outputs": [
        {
          "output_type": "stream",
          "name": "stdout",
          "text": [
            "Apakah semua claim_id yang tersisa unik? True\n"
          ]
        }
      ]
    },
    {
      "cell_type": "markdown",
      "source": [
        "# Part D: Outlier Detection"
      ],
      "metadata": {
        "id": "AnDZ_JCwzcCp"
      }
    },
    {
      "cell_type": "code",
      "source": [
        "# Buat boxplot untuk 'claim_amount'\n",
        "plt.figure(figsize=(10, 6))\n",
        "sns.boxplot(x=df['claim_amount'])\n",
        "plt.title('Boxplot untuk Claim Amount')\n",
        "plt.xlabel('Claim Amount')\n",
        "plt.show()"
      ],
      "metadata": {
        "colab": {
          "base_uri": "https://localhost:8080/",
          "height": 564
        },
        "id": "Pr0WLnQGwwLy",
        "outputId": "6798026d-942a-4bc5-cac4-d7bbb1df9dc8"
      },
      "execution_count": 52,
      "outputs": [
        {
          "output_type": "display_data",
          "data": {
            "text/plain": [
              "<Figure size 1000x600 with 1 Axes>"
            ],
            "image/png": "[encoded data removed]"
          },
          "metadata": {}
        }
      ]
    },
    {
      "cell_type": "code",
      "source": [
        "# Hitung IQR untuk 'claim_amount'\n",
        "Q1 = df['claim_amount'].quantile(0.25)\n",
        "Q3 = df['claim_amount'].quantile(0.75)\n",
        "IQR = Q3 - Q1"
      ],
      "metadata": {
        "id": "ei6jCb-8xFVi"
      },
      "execution_count": 53,
      "outputs": []
    },
    {
      "cell_type": "code",
      "source": [
        "# Tentukan batas bawah dan atas untuk outlier\n",
        "lower_bound = Q1 - 1.5 * IQR\n",
        "upper_bound = Q3 + 1.5 * IQR"
      ],
      "metadata": {
        "id": "ZMb7XbgLxRCv"
      },
      "execution_count": 54,
      "outputs": []
    },
    {
      "cell_type": "code",
      "source": [
        "# Identifikasi outlier\n",
        "outliers = df[(df['claim_amount'] < lower_bound) | (df['claim_amount'] > upper_bound)]\n",
        "print(f'Jumlah outlier yang terdeteksi: {outliers.shape[0]}')"
      ],
      "metadata": {
        "colab": {
          "base_uri": "https://localhost:8080/",
          "height": 0
        },
        "id": "Gk4ZfMG_xafx",
        "outputId": "827c64f6-c1b4-4989-ad20-c5acce2ed054"
      },
      "execution_count": 55,
      "outputs": [
        {
          "output_type": "stream",
          "name": "stdout",
          "text": [
            "Jumlah outlier yang terdeteksi: 329\n"
          ]
        }
      ]
    },
    {
      "cell_type": "code",
      "source": [
        "# Hapus Outlier\n",
        "data_no_outliers = df[~((df['claim_amount'] < lower_bound) | (df['claim_amount'] > upper_bound))]"
      ],
      "metadata": {
        "id": "XQ_GuE8lxujR"
      },
      "execution_count": 56,
      "outputs": []
    },
    {
      "cell_type": "code",
      "source": [
        "#Tampilkan plot distribusi sebelum dan sesudah treatment terhadap outlier\n",
        "# Plot distribusi sebelum penghapusan outlier\n",
        "plt.subplot(1, 2, 1)\n",
        "sns.histplot(df['claim_amount'], bins=30, kde=True)\n",
        "plt.title('Sebelum Penghapusan Outlier')\n",
        "plt.xlabel('Claim Amount')\n",
        "\n",
        "# Plot distribusi setelah penghapusan outlier\n",
        "plt.subplot(1, 2, 2)\n",
        "sns.histplot(data_no_outliers['claim_amount'], bins=30, kde=True)\n",
        "plt.title('Setelah Penghapusan Outlier')\n",
        "plt.xlabel('Claim Amount')\n",
        "\n",
        "plt.figure(figsize=(15, 6))\n",
        "plt.tight_layout()\n",
        "plt.show()"
      ],
      "metadata": {
        "colab": {
          "base_uri": "https://localhost:8080/",
          "height": 489
        },
        "id": "n5YtbkqLyv5V",
        "outputId": "3dbd603b-4881-4103-9fb9-7f19851634c6"
      },
      "execution_count": 57,
      "outputs": [
        {
          "output_type": "display_data",
          "data": {
            "text/plain": [
              "<Figure size 640x480 with 2 Axes>"
            ],
            "image/png": "[encoded data removed]"
          },
          "metadata": {}
        },
        {
          "output_type": "display_data",
          "data": {
            "text/plain": [
              "<Figure size 1500x600 with 0 Axes>"
            ]
          },
          "metadata": {}
        }
      ]
    },
    {
      "cell_type": "markdown",
      "source": [
        "# Part E: Data Transformation"
      ],
      "metadata": {
        "id": "qdn_NTaDzmbi"
      }
    },
    {
      "cell_type": "code",
      "source": [
        "import pandas as pd\n",
        "from sklearn.preprocessing import LabelEncoder, OneHotEncoder\n",
        "from sklearn.preprocessing import StandardScaler"
      ],
      "metadata": {
        "id": "aOF8YqTK2xIj"
      },
      "execution_count": 58,
      "outputs": []
    },
    {
      "cell_type": "code",
      "source": [
        "# Encode variabel kategorikal menggunakan label encoding\n",
        "label_encoder = LabelEncoder()\n",
        "df['gender'] = label_encoder.fit_transform(df['gender'])\n",
        "df['policy_type'] = label_encoder.fit_transform(df['policy_type'])\n",
        "df['payment_status'] = label_encoder.fit_transform(df['payment_status'])"
      ],
      "metadata": {
        "id": "ejuFya9g2fKx"
      },
      "execution_count": 59,
      "outputs": []
    },
    {
      "cell_type": "code",
      "source": [
        "# Normalisasi variabel claim_amount\n",
        "scaler = StandardScaler()\n",
        "df['claim_amount'] = scaler.fit_transform(df[['claim_amount']].values.reshape(-1,1))"
      ],
      "metadata": {
        "id": "W-16e6G9273w"
      },
      "execution_count": 60,
      "outputs": []
    },
    {
      "cell_type": "code",
      "source": [
        "# Tampilkan dataset setelah transformasi\n",
        "print(df.head())"
      ],
      "metadata": {
        "colab": {
          "base_uri": "https://localhost:8080/",
          "height": 0
        },
        "id": "9BheK5-d3ZRr",
        "outputId": "80db9f2b-6414-4b2b-edad-6a49925731cb"
      },
      "execution_count": 61,
      "outputs": [
        {
          "output_type": "stream",
          "name": "stdout",
          "text": [
            "   claim_id   age  gender  policy_type diagnosis_code  claim_amount  \\\n",
            "0         1  69.0       1            2           D001      1.967343   \n",
            "1         2  32.0       1            0           D004      3.273322   \n",
            "2         3  89.0       0            1           D004     -0.689587   \n",
            "3         4  78.0       1            0           D001      0.902735   \n",
            "4         5  38.0       0            0           D003      0.152356   \n",
            "\n",
            "   payment_status  \n",
            "0               2  \n",
            "1               2  \n",
            "2               2  \n",
            "3               1  \n",
            "4               1  \n"
          ]
        }
      ]
    },
    {
      "cell_type": "markdown",
      "source": [
        "### Mengapa Normalisasi Penting untuk Modeling Selanjutnya:\n",
        "- **Mencegah Dominasi Fitur**:\n",
        "Machine Learning Model seringkali bekerja lebih baik ketika fitur memiliki skala yang serupa. Jika tidak, fitur dengan nilai yang lebih besar dapat mendominasi fitur dengan nilai yang lebih kecil.\n",
        "\n",
        "- **Konvergensi yang Lebih Cepat**:\n",
        "Algoritma yang menggunakan optimasi (seperti Gradient Descent) dapat berkonvergensi lebih cepat karena ruang pencarian menjadi lebih simetris.\n",
        "\n",
        "- **Hasil yang Lebih Stabil**:\n",
        "Normalisasi dapat membantu meningkatkan stabilitas dan akurasi model, terutama pada algoritma yang merespon data dengan penggunaan jarak, seperti KNN atau SVM.\n",
        "\n",
        "Dengan menggunakan teknik-teknik ini, kita dapat mempersiapkan data kita dengan lebih baik untuk machine learning model di langkah selanjutnya."
      ],
      "metadata": {
        "id": "n5eecPVH19W8"
      }
    },
    {
      "cell_type": "markdown",
      "source": [
        "# Part F: Reporting & Documentation"
      ],
      "metadata": {
        "id": "a5gw3slbzy1G"
      }
    },
    {
      "cell_type": "code",
      "source": [
        "# Simpan dataset bersih ke file baru\n",
        "df.to_csv(\"health_insurance_claims_clean.csv\", index=False)\n",
        "print(\"Dataset bersih berhasil disimpan sebagai health_insurance_claims_clean.csv\")"
      ],
      "metadata": {
        "colab": {
          "base_uri": "https://localhost:8080/",
          "height": 0
        },
        "id": "7_N6_AIhsSLi",
        "outputId": "6ee555d2-c987-414a-8c81-28950eb6b65d"
      },
      "execution_count": 62,
      "outputs": [
        {
          "output_type": "stream",
          "name": "stdout",
          "text": [
            "Dataset bersih berhasil disimpan sebagai health_insurance_claims_clean.csv\n"
          ]
        }
      ]
    }
  ]
}